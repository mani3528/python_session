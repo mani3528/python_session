{
 "cells": [
  {
   "cell_type": "code",
   "execution_count": 1,
   "id": "2666e22c-7f2f-46d8-aa35-171bb13ca5bf",
   "metadata": {},
   "outputs": [
    {
     "name": "stdout",
     "output_type": "stream",
     "text": [
      "10\n"
     ]
    }
   ],
   "source": [
    "print(10)"
   ]
  },
  {
   "cell_type": "code",
   "execution_count": 2,
   "id": "031bb908-c7d9-4f6b-9276-08b05043b4c5",
   "metadata": {},
   "outputs": [
    {
     "name": "stdout",
     "output_type": "stream",
     "text": [
      "python\n"
     ]
    }
   ],
   "source": [
    "print('python')"
   ]
  },
  {
   "cell_type": "markdown",
   "id": "d8b8baa2-6e72-4cc3-9c81-6ef0c4029876",
   "metadata": {},
   "source": [
    "print(10,20,30)"
   ]
  },
  {
   "cell_type": "code",
   "execution_count": 6,
   "id": "f15fa91f-4060-4aaa-9566-dd3b1e6e4195",
   "metadata": {},
   "outputs": [
    {
     "name": "stdout",
     "output_type": "stream",
     "text": [
      "10 10.5 naresh it True\n"
     ]
    }
   ],
   "source": [
    "print(10,10.5,'naresh it',True)"
   ]
  },
  {
   "cell_type": "code",
   "execution_count": 7,
   "id": "a02bb56e-b60e-4af0-ad96-00e65a4145b3",
   "metadata": {},
   "outputs": [
    {
     "name": "stdout",
     "output_type": "stream",
     "text": [
      "10 20\n"
     ]
    }
   ],
   "source": [
    "n1=10\n",
    "n2=20\n",
    "print(n1,n2)"
   ]
  },
  {
   "cell_type": "code",
   "execution_count": 8,
   "id": "6edd2fd7-6466-4080-a202-f9ecd7d96a58",
   "metadata": {},
   "outputs": [
    {
     "name": "stdout",
     "output_type": "stream",
     "text": [
      "10\n",
      "20\n"
     ]
    },
    {
     "data": {
      "text/plain": [
       "(None, None)"
      ]
     },
     "execution_count": 8,
     "metadata": {},
     "output_type": "execute_result"
    }
   ],
   "source": [
    "print(10),print(20)"
   ]
  },
  {
   "cell_type": "code",
   "execution_count": 9,
   "id": "8613b623-aa14-4f15-a871-6b9c8806817b",
   "metadata": {},
   "outputs": [
    {
     "data": {
      "text/plain": [
       "(10, 20)"
      ]
     },
     "execution_count": 9,
     "metadata": {},
     "output_type": "execute_result"
    }
   ],
   "source": [
    "n1=10\n",
    "n2=20\n",
    "n1,n2"
   ]
  },
  {
   "cell_type": "code",
   "execution_count": 10,
   "id": "9d93d62d-bcb4-4c41-9d43-feb5c46c6959",
   "metadata": {},
   "outputs": [
    {
     "data": {
      "text/plain": [
       "30"
      ]
     },
     "execution_count": 10,
     "metadata": {},
     "output_type": "execute_result"
    }
   ],
   "source": [
    "a=10\n",
    "b=20\n",
    "c=a+b\n",
    "c"
   ]
  },
  {
   "cell_type": "code",
   "execution_count": 11,
   "id": "aa67382c-9480-4fa9-83a2-71a3b82efdbf",
   "metadata": {},
   "outputs": [
    {
     "name": "stdout",
     "output_type": "stream",
     "text": [
      "the addition of 10 and 20 is 30\n"
     ]
    }
   ],
   "source": [
    "print(\"the addition of 10 and 20 is 30\")\n"
   ]
  },
  {
   "cell_type": "code",
   "execution_count": 12,
   "id": "734efc48-5c94-439a-b82e-7e49d927634c",
   "metadata": {},
   "outputs": [
    {
     "name": "stdout",
     "output_type": "stream",
     "text": [
      "the addition of 10 and 20 is 30\n"
     ]
    }
   ],
   "source": [
    "print(\"the addition of\",a,\"and\",b,\"is\",c)"
   ]
  },
  {
   "cell_type": "markdown",
   "id": "cf0af8e5-0115-4a4d-8a09-dba3bf9038a4",
   "metadata": {},
   "source": [
    "**format**"
   ]
  },
  {
   "cell_type": "code",
   "execution_count": 13,
   "id": "b1839f41-c0a8-49bd-aac2-4a6d88b6f0fe",
   "metadata": {},
   "outputs": [
    {
     "name": "stdout",
     "output_type": "stream",
     "text": [
      "the addition of 10 and 20 is 30\n"
     ]
    }
   ],
   "source": [
    "print(\"the addition of {} and {} is {}\".format(a,b,c))"
   ]
  },
  {
   "cell_type": "code",
   "execution_count": 15,
   "id": "f4532582-3c26-499b-bc98-fa69801bcd3c",
   "metadata": {},
   "outputs": [
    {
     "name": "stdout",
     "output_type": "stream",
     "text": [
      "my name is python,im 10 years old and im from hyd\n"
     ]
    }
   ],
   "source": [
    "name='python'\n",
    "age=10\n",
    "city='hyd'\n",
    "print(\"my name is python,im 10 years old and im from hyd\".format(city,age,name))"
   ]
  },
  {
   "cell_type": "code",
   "execution_count": 16,
   "id": "ffd0c87b-6e75-468f-9fb1-cb7473ac7f7c",
   "metadata": {},
   "outputs": [
    {
     "name": "stdout",
     "output_type": "stream",
     "text": [
      "the addition of {a} and {b} is {c}\n"
     ]
    }
   ],
   "source": [
    "a=100\n",
    "b=200\n",
    "c=a+b\n",
    "print(\"the addition of {a} and {b} is {c}\")"
   ]
  },
  {
   "cell_type": "code",
   "execution_count": 17,
   "id": "6c4adaf0-8f62-4f68-8cd0-e89188c80656",
   "metadata": {},
   "outputs": [
    {
     "name": "stdout",
     "output_type": "stream",
     "text": [
      "the addition of 100 and 200 is 300\n"
     ]
    }
   ],
   "source": [
    "a=100\n",
    "b=200\n",
    "c=a+b\n",
    "print(f\"the addition of {a} and {b} is {c}\")"
   ]
  },
  {
   "cell_type": "code",
   "execution_count": 18,
   "id": "f98b5656-4701-4a1c-920d-6391f8288299",
   "metadata": {},
   "outputs": [
    {
     "name": "stdout",
     "output_type": "stream",
     "text": [
      "my name is python,im 10 years old and im from hyd\n"
     ]
    }
   ],
   "source": [
    "name='python'\n",
    "age=10\n",
    "city='hyd'\n",
    "print(f\"my name is python,im 10 years old and im from hyd\".format(city,age,name))"
   ]
  },
  {
   "cell_type": "code",
   "execution_count": 1,
   "id": "3bc3f052-1a98-4860-8d4e-27f8ef333c57",
   "metadata": {},
   "outputs": [],
   "source": [
    "num1=100\n",
    "num2=200\n",
    "average=(num1+num2)/2"
   ]
  },
  {
   "cell_type": "code",
   "execution_count": 5,
   "id": "2afea6a9-819c-4b9c-8de7-64341a50450c",
   "metadata": {},
   "outputs": [
    {
     "name": "stdout",
     "output_type": "stream",
     "text": [
      "the average of 100 and 200 is 150.0\n"
     ]
    }
   ],
   "source": [
    "print(\"the average of {} and {} is {}\".format(num1,num2,average))"
   ]
  },
  {
   "cell_type": "code",
   "execution_count": 6,
   "id": "b75d213c-db8d-4630-bd8a-ce0a4d2851b5",
   "metadata": {},
   "outputs": [
    {
     "name": "stdout",
     "output_type": "stream",
     "text": [
      "the average of 100 and 200 is 150.0\n"
     ]
    }
   ],
   "source": [
    "print(f\"the average of {num1} and {num2} is {average}\")"
   ]
  },
  {
   "cell_type": "raw",
   "id": "ad231ae2-3beb-4c8b-9325-24239578729d",
   "metadata": {},
   "source": [
    "radius=10\n",
    "pi_value=3.14\n",
    "area=pi_value*radius*radius"
   ]
  },
  {
   "cell_type": "code",
   "execution_count": 11,
   "id": "c00204c2-1e1b-4044-b34e-5283dc9e5c54",
   "metadata": {},
   "outputs": [
    {
     "name": "stdout",
     "output_type": "stream",
     "text": [
      "the area of circle is {}\n"
     ]
    }
   ],
   "source": [
    "print(\"the area of circle is {}\")"
   ]
  },
  {
   "cell_type": "code",
   "execution_count": 10,
   "id": "9468e03f-4859-461a-a5fb-c61167e86c07",
   "metadata": {},
   "outputs": [
    {
     "name": "stdout",
     "output_type": "stream",
     "text": [
      "the area of triangle is {area}\n"
     ]
    }
   ],
   "source": [
    "base=10\n",
    "height=20\n",
    "area=0.5*base*height\n",
    "print(\"the area of triangle is {area}\")"
   ]
  },
  {
   "cell_type": "code",
   "execution_count": 14,
   "id": "7b1ca2ed-ae32-4096-b2c8-a234ffdc9cc4",
   "metadata": {},
   "outputs": [
    {
     "name": "stdout",
     "output_type": "stream",
     "text": [
      "the area of triangle is 100.0\n"
     ]
    }
   ],
   "source": [
    "print(f\"the area of triangle is {area}\")"
   ]
  },
  {
   "cell_type": "code",
   "execution_count": 15,
   "id": "97f65441-3e8e-48f4-8ea4-64f2c145efcc",
   "metadata": {},
   "outputs": [
    {
     "name": "stdout",
     "output_type": "stream",
     "text": [
      "the total bill is:{total_bill}\n"
     ]
    }
   ],
   "source": [
    "bill_amount=1000\n",
    "tip_percentage=10\n",
    "tip_amount=bill_amount*tip_percentage/100\n",
    "total_bill=bill_amount+tip_amount\n",
    "print(\"the total bill is:{total_bill}\")\n"
   ]
  },
  {
   "cell_type": "code",
   "execution_count": 16,
   "id": "eb35658f-5f1c-403f-9120-4929307dc5ac",
   "metadata": {},
   "outputs": [
    {
     "name": "stdout",
     "output_type": "stream",
     "text": [
      "the total bill is:1100.0\n"
     ]
    }
   ],
   "source": [
    "print(f\"the total bill is:{total_bill}\")"
   ]
  },
  {
   "cell_type": "code",
   "execution_count": 17,
   "id": "f9e33d50-221e-42f3-a5d6-1e39a894fba4",
   "metadata": {},
   "outputs": [
    {
     "name": "stdout",
     "output_type": "stream",
     "text": [
      "10\n",
      "20\n"
     ]
    }
   ],
   "source": [
    "print(10)\n",
    "print(20)\n"
   ]
  },
  {
   "cell_type": "code",
   "execution_count": 18,
   "id": "50307cd7-4218-4158-82f3-40c291d9e916",
   "metadata": {},
   "outputs": [
    {
     "name": "stdout",
     "output_type": "stream",
     "text": [
      "10 20\n"
     ]
    }
   ],
   "source": [
    "print(10,20)"
   ]
  },
  {
   "cell_type": "markdown",
   "id": "468b365d-6a7d-4dba-81ea-21fdcb3ca36e",
   "metadata": {},
   "source": [
    "**end operator**"
   ]
  },
  {
   "cell_type": "code",
   "execution_count": 19,
   "id": "e05732a3-4f76-4b1b-9224-6be475ab5124",
   "metadata": {},
   "outputs": [
    {
     "name": "stdout",
     "output_type": "stream",
     "text": [
      "10 20\n"
     ]
    }
   ],
   "source": [
    "print(10,end=' ')\n",
    "print(20)"
   ]
  },
  {
   "cell_type": "code",
   "execution_count": 21,
   "id": "b442673b-5664-4bc7-b498-bd8ac550b37e",
   "metadata": {},
   "outputs": [
    {
     "name": "stdout",
     "output_type": "stream",
     "text": [
      "10  20  30\n"
     ]
    }
   ],
   "source": [
    "print(10,end='  ')\n",
    "print(20,end='  ')\n",
    "print(30)"
   ]
  },
  {
   "cell_type": "code",
   "execution_count": 22,
   "id": "3f05d89e-98c7-4cb3-8595-fd3310f9aa4f",
   "metadata": {},
   "outputs": [
    {
     "name": "stdout",
     "output_type": "stream",
     "text": [
      "10 20 30\n"
     ]
    }
   ],
   "source": [
    "print(10,20,30)"
   ]
  },
  {
   "cell_type": "markdown",
   "id": "eee02b10-1c43-4c6d-9b58-285511a4682f",
   "metadata": {},
   "source": [
    "**seperator operator**\n",
    "\n",
    "- seperate the multiple values in a single print statement"
   ]
  },
  {
   "cell_type": "code",
   "execution_count": 23,
   "id": "9a4749b7-d88c-42a9-acb5-ad934e2578c2",
   "metadata": {},
   "outputs": [
    {
     "name": "stdout",
     "output_type": "stream",
     "text": [
      "10&20&30\n"
     ]
    }
   ],
   "source": [
    "print(10,20,30,sep='&')"
   ]
  },
  {
   "cell_type": "code",
   "execution_count": 24,
   "id": "2ab919da-caf2-4de4-ad58-c76e33fb622c",
   "metadata": {},
   "outputs": [
    {
     "name": "stdout",
     "output_type": "stream",
     "text": [
      "10--->20--->30\n"
     ]
    }
   ],
   "source": [
    "print(10,20,30,sep='--->')"
   ]
  },
  {
   "cell_type": "code",
   "execution_count": 29,
   "id": "05ed8772-a5f7-4ae1-b01a-58026c01735f",
   "metadata": {},
   "outputs": [
    {
     "name": "stdout",
     "output_type": "stream",
     "text": [
      "the addition of 5 and 3 is 8.\n"
     ]
    }
   ],
   "source": [
    "print(f\"the addition of {5} and {3} is {5+3}.\")"
   ]
  },
  {
   "cell_type": "code",
   "execution_count": 28,
   "id": "6e46b54e-3048-438f-99a7-657ceaec7ea1",
   "metadata": {},
   "outputs": [
    {
     "name": "stdout",
     "output_type": "stream",
     "text": [
      "the addition of 5 and 3 is 8.\n"
     ]
    }
   ],
   "source": [
    "print(\"the addition of {} and {} is {}.\".format(5,3,5+3))"
   ]
  },
  {
   "cell_type": "code",
   "execution_count": 30,
   "id": "66726ad2-12ca-4023-915f-345bea02f907",
   "metadata": {},
   "outputs": [
    {
     "name": "stdout",
     "output_type": "stream",
     "text": [
      "the addition of 5 and 3 is 8.\n"
     ]
    }
   ],
   "source": [
    "print('the addition of 5 and 3 is 8','.',sep='')"
   ]
  },
  {
   "cell_type": "code",
   "execution_count": null,
   "id": "17b1c448-aa13-41a2-aa92-609733de923e",
   "metadata": {},
   "outputs": [],
   "source": []
  }
 ],
 "metadata": {
  "kernelspec": {
   "display_name": "Python 3 (ipykernel)",
   "language": "python",
   "name": "python3"
  },
  "language_info": {
   "codemirror_mode": {
    "name": "ipython",
    "version": 3
   },
   "file_extension": ".py",
   "mimetype": "text/x-python",
   "name": "python",
   "nbconvert_exporter": "python",
   "pygments_lexer": "ipython3",
   "version": "3.11.7"
  }
 },
 "nbformat": 4,
 "nbformat_minor": 5
}
