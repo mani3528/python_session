{
 "cells": [
  {
   "cell_type": "markdown",
   "id": "c5aaeb93-ee3b-4b97-9205-9434e9dab313",
   "metadata": {},
   "source": [
    "- integer data type int\n",
    "\n",
    "- float data type float\n",
    "\n",
    "- string data type str\n",
    "\n",
    "- boolean data type bool"
   ]
  },
  {
   "cell_type": "code",
   "execution_count": null,
   "id": "1af9c3f4-94aa-4d5e-b19e-eaca2703aa91",
   "metadata": {},
   "outputs": [],
   "source": [
    "**type casting**\n",
    "\n",
    "- converting one data type to another data type is called as type casting\n",
    "\n",
    "- which means we want to convert\n",
    "\n",
    "  - integer type to all other(float,str,bool)data types\n",
    "\n",
    "  - float type to all other("
   ]
  },
  {
   "cell_type": "markdown",
   "id": "de36b582-a0fe-4f83-90a5-4792364dc2ae",
   "metadata": {},
   "source": [
    "**integer to other data types**"
   ]
  },
  {
   "cell_type": "code",
   "execution_count": 1,
   "id": "c3c22944-c3e4-4e0c-bce6-031653348b72",
   "metadata": {},
   "outputs": [
    {
     "data": {
      "text/plain": [
       "int"
      ]
     },
     "execution_count": 1,
     "metadata": {},
     "output_type": "execute_result"
    }
   ],
   "source": [
    "num=100\n",
    "type(num)"
   ]
  },
  {
   "cell_type": "code",
   "execution_count": 2,
   "id": "5b3e54a2-f061-4a03-8278-0e3192e69d73",
   "metadata": {},
   "outputs": [
    {
     "data": {
      "text/plain": [
       "100.0"
      ]
     },
     "execution_count": 2,
     "metadata": {},
     "output_type": "execute_result"
    }
   ],
   "source": [
    "float(num)"
   ]
  },
  {
   "cell_type": "code",
   "execution_count": 3,
   "id": "59ce04dc-973c-4fcd-a920-3a8b44aa3998",
   "metadata": {},
   "outputs": [
    {
     "data": {
      "text/plain": [
       "float"
      ]
     },
     "execution_count": 3,
     "metadata": {},
     "output_type": "execute_result"
    }
   ],
   "source": [
    "float_num=float(num)\n",
    "type(float_num)"
   ]
  },
  {
   "cell_type": "code",
   "execution_count": 4,
   "id": "eaa9a7f1-5982-4f54-8aa5-be4735e89854",
   "metadata": {},
   "outputs": [
    {
     "data": {
      "text/plain": [
       "'100'"
      ]
     },
     "execution_count": 4,
     "metadata": {},
     "output_type": "execute_result"
    }
   ],
   "source": [
    "str(num)"
   ]
  },
  {
   "cell_type": "code",
   "execution_count": 6,
   "id": "ecba192d-158c-49b8-8c58-7697bcc33d8b",
   "metadata": {},
   "outputs": [
    {
     "data": {
      "text/plain": [
       "'100'"
      ]
     },
     "execution_count": 6,
     "metadata": {},
     "output_type": "execute_result"
    }
   ],
   "source": [
    "str_num=str(num)\n",
    "str_num"
   ]
  },
  {
   "cell_type": "code",
   "execution_count": 7,
   "id": "109b2dbf-fbc2-456e-8f0c-7db485201c8c",
   "metadata": {},
   "outputs": [
    {
     "data": {
      "text/plain": [
       "str"
      ]
     },
     "execution_count": 7,
     "metadata": {},
     "output_type": "execute_result"
    }
   ],
   "source": [
    "type(str_num)"
   ]
  },
  {
   "cell_type": "code",
   "execution_count": 8,
   "id": "5d725d18-8cd7-4dd8-b427-69c8c5dde087",
   "metadata": {},
   "outputs": [
    {
     "data": {
      "text/plain": [
       "True"
      ]
     },
     "execution_count": 8,
     "metadata": {},
     "output_type": "execute_result"
    }
   ],
   "source": [
    "bool(num)"
   ]
  },
  {
   "cell_type": "code",
   "execution_count": 9,
   "id": "624126f8-7363-40bc-842a-0c235936f7f6",
   "metadata": {},
   "outputs": [
    {
     "data": {
      "text/plain": [
       "(200.0, '200', True)"
      ]
     },
     "execution_count": 9,
     "metadata": {},
     "output_type": "execute_result"
    }
   ],
   "source": [
    "float(200),str(200),bool(200)"
   ]
  },
  {
   "cell_type": "code",
   "execution_count": 10,
   "id": "040f800f-a1d1-40df-a357-9f38567658c9",
   "metadata": {},
   "outputs": [
    {
     "data": {
      "text/plain": [
       "(-200.0, '-200', True)"
      ]
     },
     "execution_count": 10,
     "metadata": {},
     "output_type": "execute_result"
    }
   ],
   "source": [
    "float(-200),str(-200),bool(-200)"
   ]
  },
  {
   "cell_type": "code",
   "execution_count": 11,
   "id": "c97d2722-0dc7-4e87-9f50-5f5df60d1cd1",
   "metadata": {},
   "outputs": [
    {
     "data": {
      "text/plain": [
       "False"
      ]
     },
     "execution_count": 11,
     "metadata": {},
     "output_type": "execute_result"
    }
   ],
   "source": [
    "bool(0)"
   ]
  },
  {
   "cell_type": "markdown",
   "id": "2a59ce2b-9872-4d88-ae3d-4e431cb39251",
   "metadata": {},
   "source": [
    "**note**\n",
    "\n",
    "  - integer=0 then only conversion become false\n",
    "\n",
    "  - otherwise for any positive number or any negitive number it becomes true\n",
    "\n"
   ]
  },
  {
   "cell_type": "markdown",
   "id": "0a04e743-c5b1-499b-88b2-e853aecc1104",
   "metadata": {},
   "source": [
    "**float to another data type**"
   ]
  },
  {
   "cell_type": "code",
   "execution_count": 12,
   "id": "06f8383c-8ab2-49fe-afa3-21dcb18f8aaf",
   "metadata": {},
   "outputs": [
    {
     "data": {
      "text/plain": [
       "True"
      ]
     },
     "execution_count": 12,
     "metadata": {},
     "output_type": "execute_result"
    }
   ],
   "source": [
    "int(200.5)\n",
    "str(200.5)\n",
    "bool(200.5)"
   ]
  },
  {
   "cell_type": "code",
   "execution_count": 13,
   "id": "28d738a5-5949-432e-a7fd-47d712d20cb3",
   "metadata": {},
   "outputs": [
    {
     "data": {
      "text/plain": [
       "(200, '200.5', True)"
      ]
     },
     "execution_count": 13,
     "metadata": {},
     "output_type": "execute_result"
    }
   ],
   "source": [
    "int(200.5),str(200.5),bool(200.5)"
   ]
  },
  {
   "cell_type": "markdown",
   "id": "09818eba-c6a4-490f-aa97-8aead284bd60",
   "metadata": {},
   "source": [
    "**string to another data types**"
   ]
  },
  {
   "cell_type": "code",
   "execution_count": 14,
   "id": "a238f612-6cd1-4e04-9d4a-371632260472",
   "metadata": {},
   "outputs": [],
   "source": [
    "str='apple'\n",
    "str1='10'\n",
    "str2='10.5'"
   ]
  },
  {
   "cell_type": "code",
   "execution_count": 17,
   "id": "597865d9-d721-4386-a382-88cc002de8c7",
   "metadata": {},
   "outputs": [
    {
     "ename": "SyntaxError",
     "evalue": "invalid syntax. Maybe you meant '==' or ':=' instead of '='? (3408892164.py, line 1)",
     "output_type": "error",
     "traceback": [
      "\u001b[1;36m  Cell \u001b[1;32mIn[17], line 1\u001b[1;36m\u001b[0m\n\u001b[1;33m    str=('apple'),str1=('10'),str2=('10.5')\u001b[0m\n\u001b[1;37m    ^\u001b[0m\n\u001b[1;31mSyntaxError\u001b[0m\u001b[1;31m:\u001b[0m invalid syntax. Maybe you meant '==' or ':=' instead of '='?\n"
     ]
    }
   ],
   "source": [
    "str=('apple'),str1=('10'),str2=('10.5')"
   ]
  },
  {
   "cell_type": "code",
   "execution_count": 16,
   "id": "801bce11-2236-4aae-93c0-5453a8ae4ff9",
   "metadata": {},
   "outputs": [
    {
     "data": {
      "text/plain": [
       "(10, 10.0, True)"
      ]
     },
     "execution_count": 16,
     "metadata": {},
     "output_type": "execute_result"
    }
   ],
   "source": [
    "int('10'),float('10'),bool('10')"
   ]
  },
  {
   "cell_type": "code",
   "execution_count": 19,
   "id": "6f8c1b63-735d-4fc9-96a0-14c7aaf8d417",
   "metadata": {},
   "outputs": [
    {
     "data": {
      "text/plain": [
       "(10, 10.5, True)"
      ]
     },
     "execution_count": 19,
     "metadata": {},
     "output_type": "execute_result"
    }
   ],
   "source": [
    "int('10'),float('10.5'),bool('10.5')"
   ]
  },
  {
   "cell_type": "code",
   "execution_count": null,
   "id": "33774768-18b2-4dcc-8572-3e036e31ace9",
   "metadata": {},
   "outputs": [],
   "source": [
    "int('10') #pass\n",
    "int('10.5') #fail\n",
    "float('10') #pass\n",
    "float('10.5') #pass"
   ]
  },
  {
   "cell_type": "markdown",
   "id": "40c3bc5d-a22d-412b-9285-0b5ea866d6db",
   "metadata": {},
   "source": [
    "- float is the boss\n",
    "\n",
    "- float of any value either it is integer in strings format\n",
    "\n",
    "- or float in strings format will works\n",
    "\n",
    "- but integer will works only for integer in strings format\n",
    "\n",
    "- integer type casting will fail for float in string format"
   ]
  },
  {
   "cell_type": "code",
   "execution_count": 20,
   "id": "6b753a92-ae84-4c57-b1af-de0e08dd25db",
   "metadata": {},
   "outputs": [
    {
     "data": {
      "text/plain": [
       "True"
      ]
     },
     "execution_count": 20,
     "metadata": {},
     "output_type": "execute_result"
    }
   ],
   "source": [
    "bool('0')"
   ]
  },
  {
   "cell_type": "code",
   "execution_count": 21,
   "id": "40c6b3fb-cb5d-4293-875c-f761d6643ff9",
   "metadata": {},
   "outputs": [
    {
     "data": {
      "text/plain": [
       "False"
      ]
     },
     "execution_count": 21,
     "metadata": {},
     "output_type": "execute_result"
    }
   ],
   "source": [
    "bool(0)"
   ]
  },
  {
   "cell_type": "code",
   "execution_count": 22,
   "id": "df10f3a9-e4ff-435b-8980-525334257f13",
   "metadata": {},
   "outputs": [
    {
     "data": {
      "text/plain": [
       "False"
      ]
     },
     "execution_count": 22,
     "metadata": {},
     "output_type": "execute_result"
    }
   ],
   "source": [
    "bool('')"
   ]
  },
  {
   "cell_type": "markdown",
   "id": "88a07b51-4b0b-47b5-8d97-8b2dcf41b099",
   "metadata": {},
   "source": [
    "- empty string of boolean gives false\n",
    "\n",
    "- false means nothing either 0 or empty string"
   ]
  },
  {
   "cell_type": "code",
   "execution_count": 23,
   "id": "1858dab4-de06-490a-ae58-1f32bf17a19e",
   "metadata": {},
   "outputs": [
    {
     "ename": "SyntaxError",
     "evalue": "invalid syntax (843575130.py, line 1)",
     "output_type": "error",
     "traceback": [
      "\u001b[1;36m  Cell \u001b[1;32mIn[23], line 1\u001b[1;36m\u001b[0m\n\u001b[1;33m    TRUE ==== int float str\u001b[0m\n\u001b[1;37m           ^\u001b[0m\n\u001b[1;31mSyntaxError\u001b[0m\u001b[1;31m:\u001b[0m invalid syntax\n"
     ]
    }
   ],
   "source": [
    "TRUE ==== int float str"
   ]
  },
  {
   "cell_type": "code",
   "execution_count": 25,
   "id": "892f7cf2-664c-4e14-bb5e-9f99ff11deed",
   "metadata": {},
   "outputs": [
    {
     "data": {
      "text/plain": [
       "1"
      ]
     },
     "execution_count": 25,
     "metadata": {},
     "output_type": "execute_result"
    }
   ],
   "source": [
    "int(True)"
   ]
  },
  {
   "cell_type": "code",
   "execution_count": 26,
   "id": "54507b56-9825-4d66-8157-7acee48813f9",
   "metadata": {},
   "outputs": [
    {
     "data": {
      "text/plain": [
       "1.0"
      ]
     },
     "execution_count": 26,
     "metadata": {},
     "output_type": "execute_result"
    }
   ],
   "source": [
    "float(True)"
   ]
  },
  {
   "cell_type": "code",
   "execution_count": 1,
   "id": "bea9a65b-39a0-41a0-90a8-ad4b10316c83",
   "metadata": {},
   "outputs": [
    {
     "data": {
      "text/plain": [
       "'True'"
      ]
     },
     "execution_count": 1,
     "metadata": {},
     "output_type": "execute_result"
    }
   ],
   "source": [
    "str(True)"
   ]
  },
  {
   "cell_type": "code",
   "execution_count": 2,
   "id": "68c3e25c-af93-4182-a5ee-cf3736e0ec98",
   "metadata": {},
   "outputs": [
    {
     "data": {
      "text/plain": [
       "0"
      ]
     },
     "execution_count": 2,
     "metadata": {},
     "output_type": "execute_result"
    }
   ],
   "source": [
    "int(False)"
   ]
  },
  {
   "cell_type": "code",
   "execution_count": 3,
   "id": "ab3c6bdd-b58f-4ef8-b127-6c8c5981b7b8",
   "metadata": {},
   "outputs": [
    {
     "data": {
      "text/plain": [
       "0.0"
      ]
     },
     "execution_count": 3,
     "metadata": {},
     "output_type": "execute_result"
    }
   ],
   "source": [
    "float(False)"
   ]
  },
  {
   "cell_type": "code",
   "execution_count": 4,
   "id": "8b7280a3-3e05-4c3f-8d0d-091b9e800328",
   "metadata": {},
   "outputs": [
    {
     "data": {
      "text/plain": [
       "'False'"
      ]
     },
     "execution_count": 4,
     "metadata": {},
     "output_type": "execute_result"
    }
   ],
   "source": [
    "str(False)"
   ]
  },
  {
   "cell_type": "code",
   "execution_count": 9,
   "id": "934269d8-1bac-4a44-b5aa-5d24036047fc",
   "metadata": {},
   "outputs": [
    {
     "data": {
      "text/plain": [
       "(100.0, '100', True)"
      ]
     },
     "execution_count": 9,
     "metadata": {},
     "output_type": "execute_result"
    }
   ],
   "source": [
    "float(100),str(100),bool(100)  # int to other"
   ]
  },
  {
   "cell_type": "code",
   "execution_count": 8,
   "id": "36efeeaa-9027-4947-a4f5-3e615aa4b29b",
   "metadata": {},
   "outputs": [
    {
     "data": {
      "text/plain": [
       "(100, '100.5', True)"
      ]
     },
     "execution_count": 8,
     "metadata": {},
     "output_type": "execute_result"
    }
   ],
   "source": [
    "int(100.5),str(100.5),bool(100.5)  #  float to other"
   ]
  },
  {
   "cell_type": "code",
   "execution_count": 10,
   "id": "94ad7437-d324-4448-965f-c7f1c0f6c64b",
   "metadata": {},
   "outputs": [
    {
     "data": {
      "text/plain": [
       "False"
      ]
     },
     "execution_count": 10,
     "metadata": {},
     "output_type": "execute_result"
    }
   ],
   "source": [
    "bool(0)"
   ]
  },
  {
   "cell_type": "code",
   "execution_count": 11,
   "id": "04aa6420-1678-43f6-8291-8ba72fe2451a",
   "metadata": {},
   "outputs": [
    {
     "data": {
      "text/plain": [
       "(1, 1.0, 'True')"
      ]
     },
     "execution_count": 11,
     "metadata": {},
     "output_type": "execute_result"
    }
   ],
   "source": [
    "int(True),float(True),str(True)  # bool to others"
   ]
  },
  {
   "cell_type": "code",
   "execution_count": 12,
   "id": "c2cc2d13-89c9-4a9f-a599-7876fd03aaa5",
   "metadata": {},
   "outputs": [
    {
     "data": {
      "text/plain": [
       "(0, 0.0, 'False')"
      ]
     },
     "execution_count": 12,
     "metadata": {},
     "output_type": "execute_result"
    }
   ],
   "source": [
    "int(False),float(False),str(False) # bool to others"
   ]
  },
  {
   "cell_type": "code",
   "execution_count": null,
   "id": "a52fb16c-a869-44ae-a58a-83e87873699b",
   "metadata": {},
   "outputs": [],
   "source": []
  }
 ],
 "metadata": {
  "kernelspec": {
   "display_name": "Python 3 (ipykernel)",
   "language": "python",
   "name": "python3"
  },
  "language_info": {
   "codemirror_mode": {
    "name": "ipython",
    "version": 3
   },
   "file_extension": ".py",
   "mimetype": "text/x-python",
   "name": "python",
   "nbconvert_exporter": "python",
   "pygments_lexer": "ipython3",
   "version": "3.11.7"
  }
 },
 "nbformat": 4,
 "nbformat_minor": 5
}
