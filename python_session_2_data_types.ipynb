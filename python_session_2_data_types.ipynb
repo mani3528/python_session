{
 "cells": [
  {
   "cell_type": "markdown",
   "id": "d7fe12ad-3098-4470-9d2f-8e448970fdb8",
   "metadata": {},
   "source": [
    "**data typesI**\n",
    "\n",
    "- we have many types avaiable\n",
    "\n",
    "- the main data types are\n",
    "\n",
    "  - integers\n",
    "\n",
    "  - float\n",
    "\n",
    "  - boolean\n",
    "\n",
    "  - string\n",
    "\n",
    "- list\n",
    "\n",
    "- dictionary\n",
    "\n",
    "- complex\n",
    "\n",
    "- truple"
   ]
  },
  {
   "cell_type": "code",
   "execution_count": 1,
   "id": "9e66f7c4-23c6-4666-aee0-3f9be075fdaa",
   "metadata": {},
   "outputs": [
    {
     "data": {
      "text/plain": [
       "int"
      ]
     },
     "execution_count": 1,
     "metadata": {},
     "output_type": "execute_result"
    }
   ],
   "source": [
    "n=100\n",
    "type(n)"
   ]
  },
  {
   "cell_type": "markdown",
   "id": "7f96774f-16d4-47ad-a1f4-6074878ee817",
   "metadata": {},
   "source": [
    "- binary representation\n",
    "\n",
    "- octa representation\n",
    "\n",
    " - hexa representation"
   ]
  },
  {
   "cell_type": "markdown",
   "id": "9fc7ff2e-b6c8-4743-9665-ed70f4c835b3",
   "metadata": {},
   "source": [
    "**binary**\n",
    "\n",
    "- bi mean 2\n",
    "\n",
    "- so it requires 2 digits\n",
    "\n",
    "- generally we have 0 1 2 3 4 5 6 7 8 9\n",
    "\n",
    "- so it will represent with only 0 and 1\n",
    "\n",
    "- representation is 0b10,0b01111\n",
    "\n",
    "- wrong representation is 0b102,0b007"
   ]
  },
  {
   "cell_type": "code",
   "execution_count": 2,
   "id": "a2da3e63-2e78-401e-a4ff-d0c97a6a2103",
   "metadata": {},
   "outputs": [
    {
     "data": {
      "text/plain": [
       "5"
      ]
     },
     "execution_count": 2,
     "metadata": {},
     "output_type": "execute_result"
    }
   ],
   "source": [
    "0b101"
   ]
  },
  {
   "cell_type": "code",
   "execution_count": 3,
   "id": "dd27db70-4d61-4492-ba43-7916f525a7f4",
   "metadata": {},
   "outputs": [
    {
     "data": {
      "text/plain": [
       "9"
      ]
     },
     "execution_count": 3,
     "metadata": {},
     "output_type": "execute_result"
    }
   ],
   "source": [
    "0b1001"
   ]
  },
  {
   "cell_type": "code",
   "execution_count": 1,
   "id": "cec329da-cd4a-4d31-8788-10ba5fc75315",
   "metadata": {},
   "outputs": [],
   "source": [
    "import os"
   ]
  },
  {
   "cell_type": "code",
   "execution_count": 2,
   "id": "d6ecc0cf-6a10-4274-bca1-c3f3a336bd28",
   "metadata": {},
   "outputs": [
    {
     "data": {
      "text/plain": [
       "'C:\\\\Users\\\\manik\\\\Documents\\\\Naresh IT\\\\python'"
      ]
     },
     "execution_count": 2,
     "metadata": {},
     "output_type": "execute_result"
    }
   ],
   "source": [
    "os.getcwd()"
   ]
  },
  {
   "cell_type": "code",
   "execution_count": 3,
   "id": "7ad6098b-e2f1-40bd-ba2a-c366580e6053",
   "metadata": {},
   "outputs": [
    {
     "data": {
      "text/plain": [
       "15"
      ]
     },
     "execution_count": 3,
     "metadata": {},
     "output_type": "execute_result"
    }
   ],
   "source": [
    "0b1111"
   ]
  },
  {
   "cell_type": "markdown",
   "id": "38312db3-5e1d-4f5c-927f-f116a6d51310",
   "metadata": {},
   "source": [
    "8   4   2     1    num\n",
    "0   0   0     0     0\n",
    "0   0   0     1     1 \n",
    "0   0   1     0     2\n",
    "0   0   1     1     3 \n",
    "0   1   0     0     4\n",
    "0   1   0     1     5\n",
    "0   1   1     0     6\n",
    "0   1   1     1     7\n",
    "1   0   0     0     8\n",
    "1   0   0     1     9\n",
    "1   0   1     0     10\n",
    "1   0   1     1     11\n",
    "1   1   0     0     12\n",
    "1   1   0     1     13\n",
    "1   1   1     0     14\n",
    "1   1   1     1     15\n",
    "\n",
    "8   4   2     1"
   ]
  },
  {
   "cell_type": "code",
   "execution_count": 5,
   "id": "e765fcb5-88f6-4ccd-9732-432b27530808",
   "metadata": {},
   "outputs": [
    {
     "data": {
      "text/plain": [
       "29"
      ]
     },
     "execution_count": 5,
     "metadata": {},
     "output_type": "execute_result"
    }
   ],
   "source": [
    "0b11101"
   ]
  },
  {
   "cell_type": "code",
   "execution_count": 6,
   "id": "2152bac9-0b5c-4b2c-b18a-d4cf05858850",
   "metadata": {},
   "outputs": [
    {
     "data": {
      "text/plain": [
       "59"
      ]
     },
     "execution_count": 6,
     "metadata": {},
     "output_type": "execute_result"
    }
   ],
   "source": [
    "0b111011"
   ]
  },
  {
   "cell_type": "markdown",
   "id": "143e9cae-776a-4eee-ad5e-c55bde0fdee4",
   "metadata": {},
   "source": [
    "**octal**\n",
    "\n",
    "- octal mean 8\n",
    "\n",
    "- so it requires 8 digits\n",
    "\n",
    "- generally we have 0 1 2 3 4 5 6 7 8 9\n",
    "\n",
    "- so it will represent with only 0 1 2 3 4 5 6 7\n",
    "\n",
    "- representation is 0o123,0o012345,0o7654321\n",
    "\n",
    "- wrong representation is 0o108,0o987"
   ]
  },
  {
   "cell_type": "code",
   "execution_count": 8,
   "id": "134fcd69-8b31-47b8-81f8-dfaa8a3fec03",
   "metadata": {},
   "outputs": [
    {
     "data": {
      "text/plain": [
       "83"
      ]
     },
     "execution_count": 8,
     "metadata": {},
     "output_type": "execute_result"
    }
   ],
   "source": [
    "0o123"
   ]
  },
  {
   "cell_type": "code",
   "execution_count": 9,
   "id": "ab62b545-80a0-4a44-a51c-c8dbc5195326",
   "metadata": {},
   "outputs": [
    {
     "data": {
      "text/plain": [
       "668"
      ]
     },
     "execution_count": 9,
     "metadata": {},
     "output_type": "execute_result"
    }
   ],
   "source": [
    "0o1234"
   ]
  },
  {
   "cell_type": "markdown",
   "id": "d83c7952-0701-40f8-b900-154f47e4373f",
   "metadata": {},
   "source": [
    "**hexa**\n",
    "\n",
    "- octal mean 16\n",
    "\n",
    "- so it requires 16 digits\n",
    "\n",
    "- generally we have 0 1 2 3 4 5 6 7 8 9  A(10) B(11) C(12) D(13) E(14) F(15)\n",
    "\n",
    "- so it will represent with only 0-9 A-F\n",
    "\n",
    "- representation is 0xF9,0x0123abc,0xabc\n",
    "\n",
    "- wrong representation is 0xGH,0xABCDEFG"
   ]
  },
  {
   "cell_type": "code",
   "execution_count": 10,
   "id": "9cefff22-b9f3-4df1-b982-d280e2741803",
   "metadata": {},
   "outputs": [
    {
     "data": {
      "text/plain": [
       "2748"
      ]
     },
     "execution_count": 10,
     "metadata": {},
     "output_type": "execute_result"
    }
   ],
   "source": [
    "0xabc"
   ]
  },
  {
   "cell_type": "code",
   "execution_count": 11,
   "id": "45cb946f-b71a-482f-94df-cf165cc9b7ca",
   "metadata": {},
   "outputs": [
    {
     "data": {
      "text/plain": [
       "4671"
      ]
     },
     "execution_count": 11,
     "metadata": {},
     "output_type": "execute_result"
    }
   ],
   "source": [
    "0x123f"
   ]
  },
  {
   "cell_type": "code",
   "execution_count": 12,
   "id": "e74efd8b-945f-49c4-9e2c-1bbec6b90f83",
   "metadata": {},
   "outputs": [
    {
     "data": {
      "text/plain": [
       "1729"
      ]
     },
     "execution_count": 12,
     "metadata": {},
     "output_type": "execute_result"
    }
   ],
   "source": [
    "1729"
   ]
  },
  {
   "cell_type": "markdown",
   "id": "4cb4ef20-93f4-4431-a82d-19c046a83bd1",
   "metadata": {},
   "source": [
    "**float**"
   ]
  },
  {
   "cell_type": "code",
   "execution_count": 14,
   "id": "78a14f8f-ba29-4a36-8333-3ec6e1e30597",
   "metadata": {},
   "outputs": [
    {
     "data": {
      "text/plain": [
       "10.0"
      ]
     },
     "execution_count": 14,
     "metadata": {},
     "output_type": "execute_result"
    }
   ],
   "source": [
    "1e1"
   ]
  },
  {
   "cell_type": "code",
   "execution_count": 15,
   "id": "2534e8b2-4344-4d4e-b090-716f7eaa31cb",
   "metadata": {},
   "outputs": [
    {
     "data": {
      "text/plain": [
       "(10.0, 100.0, 1000.0, 10000.0)"
      ]
     },
     "execution_count": 15,
     "metadata": {},
     "output_type": "execute_result"
    }
   ],
   "source": [
    "1e1,1e2,1e3,1e4"
   ]
  },
  {
   "cell_type": "code",
   "execution_count": 16,
   "id": "e24d7418-a780-4db7-813c-cc011fefd726",
   "metadata": {},
   "outputs": [
    {
     "data": {
      "text/plain": [
       "24000.0"
      ]
     },
     "execution_count": 16,
     "metadata": {},
     "output_type": "execute_result"
    }
   ],
   "source": [
    "24e3"
   ]
  },
  {
   "cell_type": "code",
   "execution_count": 17,
   "id": "65d893c8-271f-4392-8e7b-7233b8503104",
   "metadata": {},
   "outputs": [
    {
     "data": {
      "text/plain": [
       "(10.0, 100.0, 1000.0, 10000.0)"
      ]
     },
     "execution_count": 17,
     "metadata": {},
     "output_type": "execute_result"
    }
   ],
   "source": [
    "1e+1,1e+2,1e+3,1e+4"
   ]
  },
  {
   "cell_type": "code",
   "execution_count": 18,
   "id": "6d4fcad8-24ef-4b2e-b918-5d07c76d4928",
   "metadata": {},
   "outputs": [
    {
     "data": {
      "text/plain": [
       "(0.1, 0.01, 0.001, 0.0001)"
      ]
     },
     "execution_count": 18,
     "metadata": {},
     "output_type": "execute_result"
    }
   ],
   "source": [
    "1e-1,1e-2,1e-3,1e-4"
   ]
  },
  {
   "cell_type": "code",
   "execution_count": 19,
   "id": "be136dc8-8fe1-4474-bba3-3c6f35db7656",
   "metadata": {},
   "outputs": [
    {
     "data": {
      "text/plain": [
       "0.024"
      ]
     },
     "execution_count": 19,
     "metadata": {},
     "output_type": "execute_result"
    }
   ],
   "source": [
    "24e-3"
   ]
  },
  {
   "cell_type": "markdown",
   "id": "0b1163d7-0348-4ebe-9cab-10811390f2fc",
   "metadata": {},
   "source": [
    "-  positive means multiply\n",
    "  \n",
    "-  negitive means divide"
   ]
  },
  {
   "cell_type": "markdown",
   "id": "6a51a7fb-ae5c-4c22-bac6-a6c7abb69f0b",
   "metadata": {},
   "source": [
    "**strings**"
   ]
  },
  {
   "cell_type": "markdown",
   "id": "d5609d21-c068-4292-8656-56bd2b1de65d",
   "metadata": {},
   "source": [
    "- strings are used to represent english characters generally\n",
    "\n",
    "- strings will represent in\n",
    "\n",
    "    - single qoutes\n",
    "\n",
    "    - double qoutes\n",
    "\n",
    "    - triple quotes"
   ]
  },
  {
   "cell_type": "code",
   "execution_count": 21,
   "id": "d0161a66-0156-4096-bc0c-efcfd8d7eebb",
   "metadata": {},
   "outputs": [
    {
     "data": {
      "text/plain": [
       "str"
      ]
     },
     "execution_count": 21,
     "metadata": {},
     "output_type": "execute_result"
    }
   ],
   "source": [
    "name='mani'\n",
    "type(name)"
   ]
  },
  {
   "cell_type": "code",
   "execution_count": 22,
   "id": "304c4310-0016-458f-9a89-5b7259d55f9c",
   "metadata": {},
   "outputs": [
    {
     "data": {
      "text/plain": [
       "str"
      ]
     },
     "execution_count": 22,
     "metadata": {},
     "output_type": "execute_result"
    }
   ],
   "source": [
    "name1='sreeja'\n",
    "type(name1)"
   ]
  },
  {
   "cell_type": "code",
   "execution_count": 23,
   "id": "33f0e0b4-6725-4ed9-b2a7-1055158b000e",
   "metadata": {},
   "outputs": [
    {
     "data": {
      "text/plain": [
       "str"
      ]
     },
     "execution_count": 23,
     "metadata": {},
     "output_type": "execute_result"
    }
   ],
   "source": [
    "email_id='manikanthranga@gmail.com'\n",
    "type(email_id)"
   ]
  },
  {
   "cell_type": "markdown",
   "id": "7a2db4fa-d70a-4d30-b2a6-59365ce0df53",
   "metadata": {},
   "source": [
    "**RED COLOUR MEANS STRINGS**\n",
    "\n",
    "**GREEN COLOUR MEANS KEYWORDS**\n",
    "\n",
    "**BLACK COLOUR MEANS VERIABLES**"
   ]
  },
  {
   "cell_type": "code",
   "execution_count": 24,
   "id": "cb1c1f9c-1614-4b7f-91c3-05a56fe44e5d",
   "metadata": {},
   "outputs": [
    {
     "data": {
      "text/plain": [
       "'python'"
      ]
     },
     "execution_count": 24,
     "metadata": {},
     "output_type": "execute_result"
    }
   ],
   "source": [
    "name='python'\n",
    "name1='python'\n",
    "name"
   ]
  },
  {
   "cell_type": "code",
   "execution_count": 25,
   "id": "54462fe7-688c-48a1-85b2-0b057385c4fb",
   "metadata": {},
   "outputs": [
    {
     "data": {
      "text/plain": [
       "'python'"
      ]
     },
     "execution_count": 25,
     "metadata": {},
     "output_type": "execute_result"
    }
   ],
   "source": [
    "name1"
   ]
  },
  {
   "cell_type": "code",
   "execution_count": 26,
   "id": "93289fc6-e31e-46bf-a2f1-595b7147ff84",
   "metadata": {},
   "outputs": [
    {
     "name": "stdout",
     "output_type": "stream",
     "text": [
      "python\n"
     ]
    }
   ],
   "source": [
    "print(name)"
   ]
  },
  {
   "cell_type": "markdown",
   "id": "48e55270-94cc-48e7-a4ce-aa781a60a28e",
   "metadata": {},
   "source": [
    "- whenever you print quotes will not visible"
   ]
  },
  {
   "cell_type": "code",
   "execution_count": 27,
   "id": "cd403f7a-c1c5-4e68-9adc-bb330911e00c",
   "metadata": {},
   "outputs": [
    {
     "data": {
      "text/plain": [
       "\"i like 'python'\""
      ]
     },
     "execution_count": 27,
     "metadata": {},
     "output_type": "execute_result"
    }
   ],
   "source": [
    "name=\"i like 'python'\"\n",
    "name"
   ]
  },
  {
   "cell_type": "code",
   "execution_count": 28,
   "id": "3254ee0f-9231-4f49-a19b-903ea866221d",
   "metadata": {},
   "outputs": [
    {
     "name": "stdout",
     "output_type": "stream",
     "text": [
      "i like 'python'\n"
     ]
    }
   ],
   "source": [
    "print(name)"
   ]
  },
  {
   "cell_type": "code",
   "execution_count": 29,
   "id": "7234843f-d16b-4f5d-893c-7ce7026e0e3a",
   "metadata": {},
   "outputs": [
    {
     "name": "stdout",
     "output_type": "stream",
     "text": [
      "i like \"python\"\n"
     ]
    }
   ],
   "source": [
    "str='i like \"python\"'\n",
    "print(str)"
   ]
  },
  {
   "cell_type": "markdown",
   "id": "6cc5df34-9c35-47dc-a9d9-b089908c2d71",
   "metadata": {},
   "source": [
    "- entire string in double qoute the highlighted word in single qoute vice versa"
   ]
  },
  {
   "cell_type": "markdown",
   "id": "34847aff-a200-4f8a-a2b9-2d8300bf2a21",
   "metadata": {},
   "source": [
    "***Tripe qoute**\n",
    "\n",
    "- triple qoute is not used for couding\n",
    "\n",
    "- triple qoute is used to provide the information to the user\n",
    "\n",
    "- in order to provide the information in jupyter notebook we will markdown\n",
    "\n",
    "- in vscode or pycharm there is no markdown option\n",
    "\n",
    "- thats why the world \n",
    "\n",
    "- this prosses is called DOGSTRING"
   ]
  },
  {
   "cell_type": "code",
   "execution_count": 30,
   "id": "b0218689-e3e0-4131-95d7-dedfa095d753",
   "metadata": {},
   "outputs": [
    {
     "data": {
      "text/plain": [
       "'\\nmy name is manikanth\\ni want to become an engineer\\n'"
      ]
     },
     "execution_count": 30,
     "metadata": {},
     "output_type": "execute_result"
    }
   ],
   "source": [
    "\"\"\"\n",
    "my name is manikanth\n",
    "i want to become an engineer\n",
    "\"\"\""
   ]
  },
  {
   "cell_type": "markdown",
   "id": "b5615db0-06e6-48bc-9348-acf8a955490d",
   "metadata": {},
   "source": [
    "**BOOLEAN**"
   ]
  },
  {
   "cell_type": "code",
   "execution_count": 33,
   "id": "8779e5db-359a-4679-a610-9920954fc740",
   "metadata": {},
   "outputs": [
    {
     "data": {
      "text/plain": [
       "str"
      ]
     },
     "execution_count": 33,
     "metadata": {},
     "output_type": "execute_result"
    }
   ],
   "source": [
    "value=\"true\"\n",
    "type(value)"
   ]
  },
  {
   "cell_type": "code",
   "execution_count": 41,
   "id": "d60c1227-ebbd-4173-aa3a-b97af63d589f",
   "metadata": {},
   "outputs": [
    {
     "data": {
      "text/plain": [
       "str"
      ]
     },
     "execution_count": 41,
     "metadata": {},
     "output_type": "execute_result"
    }
   ],
   "source": [
    "value1='false'\n",
    "type(value1)"
   ]
  },
  {
   "cell_type": "code",
   "execution_count": null,
   "id": "0a52c836-562c-486a-8ce2-365a99fa14ab",
   "metadata": {},
   "outputs": [],
   "source": []
  }
 ],
 "metadata": {
  "kernelspec": {
   "display_name": "Python 3 (ipykernel)",
   "language": "python",
   "name": "python3"
  },
  "language_info": {
   "codemirror_mode": {
    "name": "ipython",
    "version": 3
   },
   "file_extension": ".py",
   "mimetype": "text/x-python",
   "name": "python",
   "nbconvert_exporter": "python",
   "pygments_lexer": "ipython3",
   "version": "3.11.7"
  }
 },
 "nbformat": 4,
 "nbformat_minor": 5
}
