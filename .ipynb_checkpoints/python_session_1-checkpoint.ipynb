{
 "cells": [
  {
   "cell_type": "code",
   "execution_count": null,
   "id": "8d59fe64-b527-41f6-909e-3dd9277df957",
   "metadata": {},
   "outputs": [],
   "source": [
    "a=10\n",
    "b=20\n",
    "c=a+b\n",
    "c"
   ]
  },
  {
   "cell_type": "code",
   "execution_count": 1,
   "id": "7b6b104f-417c-4e6e-8bd0-5ebd75c7cbd7",
   "metadata": {},
   "outputs": [
    {
     "data": {
      "text/plain": [
       "30"
      ]
     },
     "execution_count": 1,
     "metadata": {},
     "output_type": "execute_result"
    }
   ],
   "source": [
    "a=10\n",
    "b=20\n",
    "c=a+b\n",
    "c"
   ]
  },
  {
   "cell_type": "code",
   "execution_count": null,
   "id": "9f134de3-1043-4f39-aa00-c647b553e712",
   "metadata": {},
   "outputs": [],
   "source": [
    "a=100\n",
    "b=200\n",
    "c=a+b\n",
    "c"
   ]
  },
  {
   "cell_type": "markdown",
   "id": "bc01d33a-0785-45fb-a09d-16ec86f6864b",
   "metadata": {},
   "source": [
    "im learning python today"
   ]
  },
  {
   "cell_type": "code",
   "execution_count": 2,
   "id": "6b88d935-dd85-40d3-a844-7746923c013a",
   "metadata": {},
   "outputs": [
    {
     "ename": "SyntaxError",
     "evalue": "invalid syntax (3524872324.py, line 1)",
     "output_type": "error",
     "traceback": [
      "\u001b[1;36m  Cell \u001b[1;32mIn[2], line 1\u001b[1;36m\u001b[0m\n\u001b[1;33m    im learning python today\u001b[0m\n\u001b[1;37m       ^\u001b[0m\n\u001b[1;31mSyntaxError\u001b[0m\u001b[1;31m:\u001b[0m invalid syntax\n"
     ]
    }
   ],
   "source": [
    "im learning python today"
   ]
  },
  {
   "cell_type": "markdown",
   "id": "9b8e65fe-610e-4776-b65f-3392103bce0f",
   "metadata": {},
   "source": [
    "im learning python today"
   ]
  },
  {
   "cell_type": "markdown",
   "id": "07f3d981-46a1-4d71-867c-c8fc6b3bbb57",
   "metadata": {},
   "source": [
    "my name is manikanth\n",
    "and i want to persive machine learning\n",
    "become a software engineer"
   ]
  },
  {
   "cell_type": "markdown",
   "id": "ccc378d6-f061-4daf-bf79-879439216b2a",
   "metadata": {},
   "source": [
    "# python"
   ]
  },
  {
   "cell_type": "markdown",
   "id": "be480759-8dc7-4934-9787-89805a7aa5f2",
   "metadata": {},
   "source": [
    "## python"
   ]
  },
  {
   "cell_type": "markdown",
   "id": "ebfda1ac-e03d-49e0-97f4-05582bdc0867",
   "metadata": {},
   "source": [
    "### python"
   ]
  },
  {
   "cell_type": "markdown",
   "id": "62f3c82f-6d2c-407c-b2d7-8aa11add9581",
   "metadata": {},
   "source": [
    "esc+m = markdown mode\n",
    "\n",
    "esc+y = code mode"
   ]
  },
  {
   "cell_type": "markdown",
   "id": "7ca63d7c-a256-404d-accd-297c3296c9a1",
   "metadata": {},
   "source": [
    "today i learnt how to open jupyter notebook\n",
    "\n",
    "i created a folder for python\n",
    "\n",
    "from tomorrow onwards i will open all my python notebooks\n",
    "\n",
    "i understood about the kernel\n",
    "\n",
    "when kernel is busy i will not run any other code cell\n",
    "\n",
    "because python kernel will run step by step\n",
    "\n",
    "i also learn how to run the code cell using shift+enter\n",
    "\n",
    "i also learned how to write the story in jupyter notebook\n",
    "\n",
    "this is called markdown"
   ]
  },
  {
   "cell_type": "markdown",
   "id": "c0d528c2-f257-4836-bf15-af525107c164",
   "metadata": {},
   "source": [
    "<img id=\"dimg_VP9wZvGoG4uXseMP7cSZmAQ_125\" src=\"data:image/png;base64,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\" class=\"YQ4gaf\" height=\"168\" style=\"object-position:0% 38%\" width=\"300\" alt=\"Jupyter Notebooks: A Beginner's Guide ...\" data-csiid=\"22\" data-atf=\"1\">"
   ]
  },
  {
   "cell_type": "code",
   "execution_count": 1,
   "id": "a8577d3e-0bf2-49ef-9056-01ed3549aa61",
   "metadata": {},
   "outputs": [
    {
     "data": {
      "text/plain": [
       "100"
      ]
     },
     "execution_count": 1,
     "metadata": {},
     "output_type": "execute_result"
    }
   ],
   "source": [
    "number=100\n",
    "number"
   ]
  },
  {
   "cell_type": "code",
   "execution_count": 2,
   "id": "320e2df8-2ec1-4089-bf10-af5f9c5c3aa3",
   "metadata": {},
   "outputs": [
    {
     "data": {
      "text/plain": [
       "200"
      ]
     },
     "execution_count": 2,
     "metadata": {},
     "output_type": "execute_result"
    }
   ],
   "source": [
    "number=200\n",
    "number"
   ]
  },
  {
   "cell_type": "markdown",
   "id": "b48ac420-ab0e-4014-ade7-6c7f30d718bb",
   "metadata": {},
   "source": [
    "**note**\n",
    "- python is step by step process\n",
    "\n",
    "- python will take last output as the latest value\n",
    "\n",
    "- in above code we are using same variable: number\n",
    "\n",
    "- but number value changed two times\n",
    "\n",
    "- first time 100\n",
    "\n",
    "- second time 200\n",
    "\n",
    "- latest time 200"
   ]
  },
  {
   "cell_type": "code",
   "execution_count": 4,
   "id": "efe028e4-f509-4a5f-85b6-d7350bd9180a",
   "metadata": {},
   "outputs": [
    {
     "data": {
      "text/plain": [
       "300"
      ]
     },
     "execution_count": 4,
     "metadata": {},
     "output_type": "execute_result"
    }
   ],
   "source": [
    "NUMber=300\n",
    "NUMber"
   ]
  },
  {
   "cell_type": "code",
   "execution_count": 5,
   "id": "082ffc0c-956b-450c-b701-f4cfc2e10e20",
   "metadata": {},
   "outputs": [
    {
     "data": {
      "text/plain": [
       "300"
      ]
     },
     "execution_count": 5,
     "metadata": {},
     "output_type": "execute_result"
    }
   ],
   "source": [
    "number123=300\n",
    "number123"
   ]
  },
  {
   "cell_type": "code",
   "execution_count": 6,
   "id": "c334e458-4928-4f7b-8ce6-4564ca135689",
   "metadata": {},
   "outputs": [
    {
     "data": {
      "text/plain": [
       "(200, 200)"
      ]
     },
     "execution_count": 6,
     "metadata": {},
     "output_type": "execute_result"
    }
   ],
   "source": [
    "number=200\n",
    "NUMBER=200\n",
    "NUMBER,number"
   ]
  },
  {
   "cell_type": "code",
   "execution_count": 7,
   "id": "a2345b08-0d11-4af0-8cf8-836ca98acb7f",
   "metadata": {},
   "outputs": [
    {
     "ename": "SyntaxError",
     "evalue": "invalid syntax (2656576567.py, line 1)",
     "output_type": "error",
     "traceback": [
      "\u001b[1;36m  Cell \u001b[1;32mIn[7], line 1\u001b[1;36m\u001b[0m\n\u001b[1;33m    number one=800\u001b[0m\n\u001b[1;37m           ^\u001b[0m\n\u001b[1;31mSyntaxError\u001b[0m\u001b[1;31m:\u001b[0m invalid syntax\n"
     ]
    }
   ],
   "source": [
    "number one=800\n",
    "number one"
   ]
  },
  {
   "cell_type": "code",
   "execution_count": 8,
   "id": "528bd513-e964-49ab-9dac-930345e7f0ed",
   "metadata": {},
   "outputs": [
    {
     "data": {
      "text/plain": [
       "100"
      ]
     },
     "execution_count": 8,
     "metadata": {},
     "output_type": "execute_result"
    }
   ],
   "source": [
    "number_one=100\n",
    "number_one"
   ]
  },
  {
   "cell_type": "code",
   "execution_count": 9,
   "id": "126f9e48-3430-4128-a3a7-bf0d9b944dde",
   "metadata": {},
   "outputs": [
    {
     "ename": "SyntaxError",
     "evalue": "invalid syntax (2095375062.py, line 2)",
     "output_type": "error",
     "traceback": [
      "\u001b[1;36m  Cell \u001b[1;32mIn[9], line 2\u001b[1;36m\u001b[0m\n\u001b[1;33m    -\u001b[0m\n\u001b[1;37m     ^\u001b[0m\n\u001b[1;31mSyntaxError\u001b[0m\u001b[1;31m:\u001b[0m invalid syntax\n"
     ]
    }
   ],
   "source": [
    "_=1000\n",
    "-"
   ]
  },
  {
   "cell_type": "code",
   "execution_count": 10,
   "id": "4bc52b38-ce89-41e4-b3ee-0a74a572b00f",
   "metadata": {},
   "outputs": [
    {
     "data": {
      "text/plain": [
       "1000"
      ]
     },
     "execution_count": 10,
     "metadata": {},
     "output_type": "execute_result"
    }
   ],
   "source": [
    "_=1000\n",
    "_"
   ]
  },
  {
   "cell_type": "code",
   "execution_count": 11,
   "id": "1c075024-0f2a-49fc-b999-00f27a59f00b",
   "metadata": {},
   "outputs": [
    {
     "data": {
      "text/plain": [
       "(100, 200)"
      ]
     },
     "execution_count": 11,
     "metadata": {},
     "output_type": "execute_result"
    }
   ],
   "source": [
    "n1=100,200\n",
    "n1"
   ]
  },
  {
   "cell_type": "code",
   "execution_count": 12,
   "id": "ebf566db-6d8d-483a-be0a-28dc8b742790",
   "metadata": {},
   "outputs": [
    {
     "ename": "TypeError",
     "evalue": "cannot unpack non-iterable int object",
     "output_type": "error",
     "traceback": [
      "\u001b[1;31m---------------------------------------------------------------------------\u001b[0m",
      "\u001b[1;31mTypeError\u001b[0m                                 Traceback (most recent call last)",
      "Cell \u001b[1;32mIn[12], line 1\u001b[0m\n\u001b[1;32m----> 1\u001b[0m n2,n3\u001b[38;5;241m=\u001b[39m\u001b[38;5;241m200\u001b[39m\n\u001b[0;32m      2\u001b[0m n2,n3\n",
      "\u001b[1;31mTypeError\u001b[0m: cannot unpack non-iterable int object"
     ]
    }
   ],
   "source": [
    "n2,n3=200\n",
    "n2,n3"
   ]
  },
  {
   "cell_type": "code",
   "execution_count": 13,
   "id": "7eb736de-f79d-4b0c-b58d-a3e6aa4cd47d",
   "metadata": {},
   "outputs": [
    {
     "data": {
      "text/plain": [
       "(100, 200)"
      ]
     },
     "execution_count": 13,
     "metadata": {},
     "output_type": "execute_result"
    }
   ],
   "source": [
    "n4,n5=100,200\n",
    "n4,n5"
   ]
  },
  {
   "cell_type": "code",
   "execution_count": 9,
   "id": "bbf137ba-c936-49d3-b6dc-b90bec979270",
   "metadata": {},
   "outputs": [],
   "source": [
    "number=200\n",
    "NUMBER=300\n",
    "NUMber=400\n",
    "number123=500\n",
    "number=600\n",
    "numer=700\n",
    "numberone=800\n",
    "number_one=900"
   ]
  },
  {
   "cell_type": "code",
   "execution_count": 16,
   "id": "344f40a8-2b97-4240-9f3a-605b47310a3a",
   "metadata": {},
   "outputs": [
    {
     "data": {
      "text/plain": [
       "100"
      ]
     },
     "execution_count": 16,
     "metadata": {},
     "output_type": "execute_result"
    }
   ],
   "source": [
    "n1,_=100,200\n",
    "n1"
   ]
  },
  {
   "cell_type": "markdown",
   "id": "a3990836-a8bd-4009-b7cc-bbf0a2a31641",
   "metadata": {},
   "source": [
    "- python variables are case sensitive\n",
    "\n",
    "- variables can declare as captials letters\n",
    "\n",
    "- variables can declare as small letters\n",
    "\n",
    "- variables cannot start with numbers\n",
    "\n",
    "- variables cannot include spl characters except under score\n",
    "\n",
    "- only underscore is possible\n",
    "\n",
    "- keywords cannot use as variables(if , else , for , while )\n",
    "\n",
    "- two values can assign to a single variable\n",
    "\n",
    "- one value cannot assign to two variables"
   ]
  },
  {
   "cell_type": "code",
   "execution_count": 1,
   "id": "c02f703a-27f2-4f95-ac3e-b180d925bae2",
   "metadata": {},
   "outputs": [
    {
     "data": {
      "text/plain": [
       "200"
      ]
     },
     "execution_count": 1,
     "metadata": {},
     "output_type": "execute_result"
    }
   ],
   "source": [
    "num=100\n",
    "num=200\n",
    "num"
   ]
  },
  {
   "cell_type": "code",
   "execution_count": 2,
   "id": "6aea7f01-b69c-463d-8414-55190b941f3a",
   "metadata": {},
   "outputs": [
    {
     "data": {
      "text/plain": [
       "(100, 200)"
      ]
     },
     "execution_count": 2,
     "metadata": {},
     "output_type": "execute_result"
    }
   ],
   "source": [
    "num=(100,200)\n",
    "num"
   ]
  },
  {
   "cell_type": "code",
   "execution_count": 3,
   "id": "69bb9076-d1b0-478a-a6fc-587beb25f53a",
   "metadata": {},
   "outputs": [
    {
     "data": {
      "text/plain": [
       "400"
      ]
     },
     "execution_count": 3,
     "metadata": {},
     "output_type": "execute_result"
    }
   ],
   "source": [
    "num123=400\n",
    "num123"
   ]
  },
  {
   "cell_type": "code",
   "execution_count": 4,
   "id": "ebd1b923-b38d-4187-a2d0-3ed63ecd5d55",
   "metadata": {},
   "outputs": [
    {
     "ename": "SyntaxError",
     "evalue": "invalid decimal literal (3816821047.py, line 1)",
     "output_type": "error",
     "traceback": [
      "\u001b[1;36m  Cell \u001b[1;32mIn[4], line 1\u001b[1;36m\u001b[0m\n\u001b[1;33m    123num=562\u001b[0m\n\u001b[1;37m      ^\u001b[0m\n\u001b[1;31mSyntaxError\u001b[0m\u001b[1;31m:\u001b[0m invalid decimal literal\n"
     ]
    }
   ],
   "source": [
    "123num=562\n",
    "123num"
   ]
  },
  {
   "cell_type": "code",
   "execution_count": null,
   "id": "e2e1eefc-6927-4c79-9eec-eb1175dd37e9",
   "metadata": {},
   "outputs": [],
   "source": []
  }
 ],
 "metadata": {
  "kernelspec": {
   "display_name": "Python 3 (ipykernel)",
   "language": "python",
   "name": "python3"
  },
  "language_info": {
   "codemirror_mode": {
    "name": "ipython",
    "version": 3
   },
   "file_extension": ".py",
   "mimetype": "text/x-python",
   "name": "python",
   "nbconvert_exporter": "python",
   "pygments_lexer": "ipython3",
   "version": "3.11.7"
  }
 },
 "nbformat": 4,
 "nbformat_minor": 5
}
